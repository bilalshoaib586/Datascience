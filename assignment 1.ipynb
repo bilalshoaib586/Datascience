{
 "cells": [
  {
   "cell_type": "code",
   "execution_count": 1,
   "id": "bb9843c1",
   "metadata": {},
   "outputs": [
    {
     "name": "stdout",
     "output_type": "stream",
     "text": [
      "Twinkle, twinkle, little star, \n",
      "                          How I wonder whats you are ! \n",
      "                Up above the world so high ,\n",
      "                Like the diamond in the sky .  \n",
      "Twinkle, twinkle, little star,\n",
      "         How I wonder whats you are\n"
     ]
    }
   ],
   "source": [
    "print (\"Twinkle, twinkle, little star, \\n                          How I wonder whats you are ! \")\n",
    "print (\"                Up above the world so high ,\\n                Like the diamond in the sky .  \")\n",
    "print (\"Twinkle, twinkle, little star,\")\n",
    "print (\"         How I wonder whats you are\")"
   ]
  },
  {
   "cell_type": "code",
   "execution_count": 2,
   "id": "b6681000",
   "metadata": {},
   "outputs": [
    {
     "name": "stdout",
     "output_type": "stream",
     "text": [
      "3.8.8 (default, Apr 13 2021, 15:08:03) [MSC v.1916 64 bit (AMD64)]\n"
     ]
    }
   ],
   "source": [
    "import sys \n",
    "print (sys.version)"
   ]
  },
  {
   "cell_type": "code",
   "execution_count": 3,
   "id": "9cc7c3c1",
   "metadata": {},
   "outputs": [
    {
     "name": "stdout",
     "output_type": "stream",
     "text": [
      "Today's date : 2022-01-01\n"
     ]
    }
   ],
   "source": [
    "from datetime import date\n",
    "\n",
    "today = date.today()\n",
    "\n",
    "print(\"Today's date :\" , today)"
   ]
  },
  {
   "cell_type": "code",
   "execution_count": 4,
   "id": "fc938367",
   "metadata": {},
   "outputs": [
    {
     "name": "stdout",
     "output_type": "stream",
     "text": [
      "Input the radius of the circle : 5\n",
      "The area of the circle with radius 5.0 is: 78.53981633974483\n"
     ]
    }
   ],
   "source": [
    "from math import pi\n",
    "r = float(input (\"Input the radius of the circle : \"))\n",
    "print (\"The area of the circle with radius \" + str(r) + \" is: \" + str(pi * r**2))"
   ]
  },
  {
   "cell_type": "code",
   "execution_count": 5,
   "id": "7abf67a7",
   "metadata": {},
   "outputs": [
    {
     "name": "stdout",
     "output_type": "stream",
     "text": [
      "Enter first name:Roben\n",
      "Enter last name:David\n",
      "DavidRoben\n"
     ]
    }
   ],
   "source": [
    "firstname = input(\"Enter first name:\"); \n",
    "lastname = input(\"Enter last name:\"); \n",
    "print (lastname +\"\"+ firstname);"
   ]
  },
  {
   "cell_type": "code",
   "execution_count": 6,
   "id": "05b057e3",
   "metadata": {},
   "outputs": [
    {
     "name": "stdout",
     "output_type": "stream",
     "text": [
      "Enter a value12\n",
      "Enter a value12\n",
      "24\n"
     ]
    }
   ],
   "source": [
    "x = int(input(\"Enter a value\"));\n",
    "y = int(input(\"Enter a value\"));\n",
    "z = x + y; \n",
    "print (z);"
   ]
  },
  {
   "cell_type": "code",
   "execution_count": null,
   "id": "36ac6729",
   "metadata": {},
   "outputs": [],
   "source": []
  }
 ],
 "metadata": {
  "kernelspec": {
   "display_name": "Python 3",
   "language": "python",
   "name": "python3"
  },
  "language_info": {
   "codemirror_mode": {
    "name": "ipython",
    "version": 3
   },
   "file_extension": ".py",
   "mimetype": "text/x-python",
   "name": "python",
   "nbconvert_exporter": "python",
   "pygments_lexer": "ipython3",
   "version": "3.8.8"
  }
 },
 "nbformat": 4,
 "nbformat_minor": 5
}
